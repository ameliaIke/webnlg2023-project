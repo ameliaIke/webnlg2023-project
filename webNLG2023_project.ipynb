{
  "cells": [
    {
      "cell_type": "markdown",
      "metadata": {
        "id": "57e21fca"
      },
      "source": [
        "### WebNLG Challenge 2023¶\n",
        "\n",
        "The WebNLG challenge consists in mapping data to text. For instance, given the 3 DBpedia triples shown in (a), the aim is to generate a text such as (b).\n",
        "\n",
        "a. (John_E_Blaha birthDate 1942_08_26) (John_E_Blaha birthPlace San_Antonio) (John_E_Blaha occupation Fighter_pilot)\n",
        "b. John E Blaha, born in San Antonio on 1942-08-26, worked as a fighter pilot.\n",
        "\n",
        "More info: https://synalp.gitlabpages.inria.fr/webnlg-challenge/"
      ],
      "id": "57e21fca"
    },
    {
      "cell_type": "markdown",
      "metadata": {
        "id": "fr9JbKEFmH3w"
      },
      "source": [
        "Link to this colab file: https://drive.google.com/file/d/1evGzcuSOTtxoFguQiJHFLFfyQDze5mK3/view?usp=sharing"
      ],
      "id": "fr9JbKEFmH3w"
    },
    {
      "cell_type": "code",
      "execution_count": 16,
      "metadata": {
        "colab": {
          "base_uri": "https://localhost:8080/"
        },
        "id": "6b433a55",
        "outputId": "4019c749-c232-48d6-ad9b-378bde162454"
      },
      "outputs": [
        {
          "output_type": "stream",
          "name": "stdout",
          "text": [
            "Drive already mounted at /content/drive; to attempt to forcibly remount, call drive.mount(\"/content/drive\", force_remount=True).\n"
          ]
        }
      ],
      "source": [
        "from google.colab import drive\n",
        "drive.mount('/content/drive')"
      ],
      "id": "6b433a55"
    },
    {
      "cell_type": "code",
      "execution_count": 17,
      "metadata": {
        "id": "cdc715cc"
      },
      "outputs": [],
      "source": [
        "%%capture\n",
        "!pip install sentencepiece\n",
        "!pip install transformers\n",
        "!pip install timm"
      ],
      "id": "cdc715cc"
    },
    {
      "cell_type": "code",
      "execution_count": 18,
      "metadata": {
        "id": "46316ffb"
      },
      "outputs": [],
      "source": [
        "import gc\n",
        "import pandas as pd\n",
        "import numpy as np\n",
        "import os\n",
        "import torch\n",
        "from transformers import T5Tokenizer, T5ForConditionalGeneration\n",
        "from transformers.optimization import  Adafactor \n",
        "import time\n",
        "import warnings\n",
        "import math\n",
        "warnings.filterwarnings('ignore')\n",
        "import os\n",
        "import matplotlib.pyplot as plt\n",
        "%matplotlib inline"
      ],
      "id": "46316ffb"
    },
    {
      "cell_type": "code",
      "execution_count": 19,
      "metadata": {
        "id": "20058344",
        "colab": {
          "base_uri": "https://localhost:8080/"
        },
        "outputId": "cf910339-1aa1-42c9-9a4d-41c00bd686e0"
      },
      "outputs": [
        {
          "output_type": "stream",
          "name": "stdout",
          "text": [
            "Running on the CPU\n"
          ]
        }
      ],
      "source": [
        "if torch.cuda.is_available():\n",
        "   dev = torch.device(\"cuda:0\")\n",
        "   print(\"Running on the GPU\")\n",
        "else:\n",
        "   dev = torch.device(\"cpu\")\n",
        "   print(\"Running on the CPU\")"
      ],
      "id": "20058344"
    },
    {
      "cell_type": "markdown",
      "metadata": {
        "id": "NhlE964WQ_Jc"
      },
      "source": [
        "# **Load and train the data**"
      ],
      "id": "NhlE964WQ_Jc"
    },
    {
      "cell_type": "markdown",
      "metadata": {
        "id": "rF56wCTsaArV"
      },
      "source": [
        "First convert the .xml file to csv"
      ],
      "id": "rF56wCTsaArV"
    },
    {
      "cell_type": "code",
      "execution_count": 20,
      "metadata": {
        "id": "lSO-BzOxECmC"
      },
      "outputs": [],
      "source": [
        "import os\n",
        "import pathlib\n",
        "#root_folder = '/content/drive/MyDrive/webNLG/PROJECT/Data/'\n",
        "#output_folder = '/content/drive/MyDrive/webNLG/PROJECT/modified/'\n",
        "#pathlib.Path(output_folder).mkdir(exist_ok=True)\n",
        "\n",
        "#dataset_names = [\n",
        "    #'University', 'Airport', 'Astronaut', 'Building', 'City', 'ComicsCharacter', \n",
        "    #'Food', 'Monument', 'SportsTeam', 'WrittenWork']\n",
        "\n",
        "#for name in dataset_names:\n",
        "  #train_path = os.path.join(root_folder, f'{name}.xml')\n",
        "  #train_path_csv = os.path.join(output_folder, f'{name}.csv')\n",
        "\n",
        "  #dev_path = os.path.join(root_folder, f'dev/{name}_dev.xml')\n",
        "  #dev_path_csv = os.path.join(output_folder, f'{name}_dev.csv')\n",
        "\n",
        "  #test_path = os.path.join(root_folder, f'test/{name}_test.xml')\n",
        "  #test_path_csv = os.path.join(output_folder, f'{name}_test.csv')\n",
        "\n",
        "  #!python /content/drive/MyDrive/webNLG/PROJECT/Data/xml-csv_script.py {train_path} {train_path_csv}\n",
        "  #!python /content/drive/MyDrive/webNLG/PROJECT/Data/xml-csv_script.py {dev_path} {dev_path_csv}\n",
        "  #!python /content/drive/MyDrive/webNLG/PROJECT/Data/xml-csv_script.py {test_path} {test_path_csv}"
      ],
      "id": "lSO-BzOxECmC"
    },
    {
      "cell_type": "markdown",
      "metadata": {
        "id": "Xn_-kUD6OI-0"
      },
      "source": [
        "Combine the different dataset for both the train and dev set into one df"
      ],
      "id": "Xn_-kUD6OI-0"
    },
    {
      "cell_type": "code",
      "execution_count": 21,
      "metadata": {
        "id": "SiI8yx8iJg0g"
      },
      "outputs": [],
      "source": [
        "import glob\n",
        "\n",
        "#For Train\n",
        "# Get CSV files list from a folder\n",
        "all_data_path = '/content/drive/MyDrive/webNLG/PROJECT/modified'\n",
        "train_csv_files = glob.glob(all_data_path + \"/*.csv\");\n",
        "\n",
        "# Read each CSV file into DataFrame\n",
        "# This creates a list of dataframes\n",
        "train_data_list = (pd.read_csv(file) for file in train_csv_files);\n",
        "\n",
        "# Concatenate all DataFrames\n",
        "all_train_data  = pd.concat(train_data_list, ignore_index=True);\n",
        "train_data = all_train_data\n",
        "\n",
        "\n",
        "# For DEV\n",
        "dev_data_path = '/content/drive/MyDrive/webNLG/PROJECT/modified/dev'\n",
        "dev_csv_files = glob.glob(dev_data_path + \"/*.csv\");\n",
        "\n",
        "# Read each CSV file into DataFrame\n",
        "# This creates a list of dataframes\n",
        "dev_data_list = (pd.read_csv(file) for file in dev_csv_files);\n",
        "\n",
        "# Concatenate all DataFrames\n",
        "all_dev_data  = pd.concat(dev_data_list, ignore_index=True);\n",
        "dev_data = all_dev_data\n"
      ],
      "id": "SiI8yx8iJg0g"
    },
    {
      "cell_type": "code",
      "execution_count": 22,
      "metadata": {
        "id": "NHrxh33DdU5m"
      },
      "outputs": [],
      "source": [
        "#load the train datatset\n",
        "\n",
        "train_data= train_data.sample(frac=1)\n",
        "train_data=train_data.sample(frac=1)\n",
        "batch_size=8\n",
        "num_of_batches=math.floor(len(train_data)/batch_size)"
      ],
      "id": "NHrxh33DdU5m"
    },
    {
      "cell_type": "code",
      "execution_count": 23,
      "metadata": {
        "id": "X_ct5VyaetiK",
        "colab": {
          "base_uri": "https://localhost:8080/",
          "height": 206
        },
        "outputId": "849ecb6c-c2b7-4a2b-b030-d3a2ece45cca"
      },
      "outputs": [
        {
          "output_type": "execute_result",
          "data": {
            "text/plain": [
              "      prefix                                         input_text  \\\n",
              "766   webNLG  ['Ann_Arbor,_Michigan | leader | Christopher_T...   \n",
              "160   webNLG  ['Alpena_County_Regional_Airport | runwayName ...   \n",
              "1238  webNLG     ['Philippines | ethnicGroup | Ilocano_people']   \n",
              "1652  webNLG  ['A_Loyal_Character_Dancer | numberOfPages | \"...   \n",
              "1097  webNLG  ['Bakewell_pudding | dishVariation | Bakewell_...   \n",
              "\n",
              "                                            target_text  \n",
              "766   ['Christopher Taylor, politician, leads Ann Ar...  \n",
              "160   ['7/25 is the runway name of Alpena County Reg...  \n",
              "1238  ['Ilocano people are an ethnic group from the ...  \n",
              "1652  ['A loyal Character Dancer is 360 pages long.'...  \n",
              "1097  ['A variant of bakewell pudding is bakewell ta...  "
            ],
            "text/html": [
              "\n",
              "  <div id=\"df-b626efe9-3d07-4784-9b7e-30a9fb14e432\">\n",
              "    <div class=\"colab-df-container\">\n",
              "      <div>\n",
              "<style scoped>\n",
              "    .dataframe tbody tr th:only-of-type {\n",
              "        vertical-align: middle;\n",
              "    }\n",
              "\n",
              "    .dataframe tbody tr th {\n",
              "        vertical-align: top;\n",
              "    }\n",
              "\n",
              "    .dataframe thead th {\n",
              "        text-align: right;\n",
              "    }\n",
              "</style>\n",
              "<table border=\"1\" class=\"dataframe\">\n",
              "  <thead>\n",
              "    <tr style=\"text-align: right;\">\n",
              "      <th></th>\n",
              "      <th>prefix</th>\n",
              "      <th>input_text</th>\n",
              "      <th>target_text</th>\n",
              "    </tr>\n",
              "  </thead>\n",
              "  <tbody>\n",
              "    <tr>\n",
              "      <th>766</th>\n",
              "      <td>webNLG</td>\n",
              "      <td>['Ann_Arbor,_Michigan | leader | Christopher_T...</td>\n",
              "      <td>['Christopher Taylor, politician, leads Ann Ar...</td>\n",
              "    </tr>\n",
              "    <tr>\n",
              "      <th>160</th>\n",
              "      <td>webNLG</td>\n",
              "      <td>['Alpena_County_Regional_Airport | runwayName ...</td>\n",
              "      <td>['7/25 is the runway name of Alpena County Reg...</td>\n",
              "    </tr>\n",
              "    <tr>\n",
              "      <th>1238</th>\n",
              "      <td>webNLG</td>\n",
              "      <td>['Philippines | ethnicGroup | Ilocano_people']</td>\n",
              "      <td>['Ilocano people are an ethnic group from the ...</td>\n",
              "    </tr>\n",
              "    <tr>\n",
              "      <th>1652</th>\n",
              "      <td>webNLG</td>\n",
              "      <td>['A_Loyal_Character_Dancer | numberOfPages | \"...</td>\n",
              "      <td>['A loyal Character Dancer is 360 pages long.'...</td>\n",
              "    </tr>\n",
              "    <tr>\n",
              "      <th>1097</th>\n",
              "      <td>webNLG</td>\n",
              "      <td>['Bakewell_pudding | dishVariation | Bakewell_...</td>\n",
              "      <td>['A variant of bakewell pudding is bakewell ta...</td>\n",
              "    </tr>\n",
              "  </tbody>\n",
              "</table>\n",
              "</div>\n",
              "      <button class=\"colab-df-convert\" onclick=\"convertToInteractive('df-b626efe9-3d07-4784-9b7e-30a9fb14e432')\"\n",
              "              title=\"Convert this dataframe to an interactive table.\"\n",
              "              style=\"display:none;\">\n",
              "        \n",
              "  <svg xmlns=\"http://www.w3.org/2000/svg\" height=\"24px\"viewBox=\"0 0 24 24\"\n",
              "       width=\"24px\">\n",
              "    <path d=\"M0 0h24v24H0V0z\" fill=\"none\"/>\n",
              "    <path d=\"M18.56 5.44l.94 2.06.94-2.06 2.06-.94-2.06-.94-.94-2.06-.94 2.06-2.06.94zm-11 1L8.5 8.5l.94-2.06 2.06-.94-2.06-.94L8.5 2.5l-.94 2.06-2.06.94zm10 10l.94 2.06.94-2.06 2.06-.94-2.06-.94-.94-2.06-.94 2.06-2.06.94z\"/><path d=\"M17.41 7.96l-1.37-1.37c-.4-.4-.92-.59-1.43-.59-.52 0-1.04.2-1.43.59L10.3 9.45l-7.72 7.72c-.78.78-.78 2.05 0 2.83L4 21.41c.39.39.9.59 1.41.59.51 0 1.02-.2 1.41-.59l7.78-7.78 2.81-2.81c.8-.78.8-2.07 0-2.86zM5.41 20L4 18.59l7.72-7.72 1.47 1.35L5.41 20z\"/>\n",
              "  </svg>\n",
              "      </button>\n",
              "      \n",
              "  <style>\n",
              "    .colab-df-container {\n",
              "      display:flex;\n",
              "      flex-wrap:wrap;\n",
              "      gap: 12px;\n",
              "    }\n",
              "\n",
              "    .colab-df-convert {\n",
              "      background-color: #E8F0FE;\n",
              "      border: none;\n",
              "      border-radius: 50%;\n",
              "      cursor: pointer;\n",
              "      display: none;\n",
              "      fill: #1967D2;\n",
              "      height: 32px;\n",
              "      padding: 0 0 0 0;\n",
              "      width: 32px;\n",
              "    }\n",
              "\n",
              "    .colab-df-convert:hover {\n",
              "      background-color: #E2EBFA;\n",
              "      box-shadow: 0px 1px 2px rgba(60, 64, 67, 0.3), 0px 1px 3px 1px rgba(60, 64, 67, 0.15);\n",
              "      fill: #174EA6;\n",
              "    }\n",
              "\n",
              "    [theme=dark] .colab-df-convert {\n",
              "      background-color: #3B4455;\n",
              "      fill: #D2E3FC;\n",
              "    }\n",
              "\n",
              "    [theme=dark] .colab-df-convert:hover {\n",
              "      background-color: #434B5C;\n",
              "      box-shadow: 0px 1px 3px 1px rgba(0, 0, 0, 0.15);\n",
              "      filter: drop-shadow(0px 1px 2px rgba(0, 0, 0, 0.3));\n",
              "      fill: #FFFFFF;\n",
              "    }\n",
              "  </style>\n",
              "\n",
              "      <script>\n",
              "        const buttonEl =\n",
              "          document.querySelector('#df-b626efe9-3d07-4784-9b7e-30a9fb14e432 button.colab-df-convert');\n",
              "        buttonEl.style.display =\n",
              "          google.colab.kernel.accessAllowed ? 'block' : 'none';\n",
              "\n",
              "        async function convertToInteractive(key) {\n",
              "          const element = document.querySelector('#df-b626efe9-3d07-4784-9b7e-30a9fb14e432');\n",
              "          const dataTable =\n",
              "            await google.colab.kernel.invokeFunction('convertToInteractive',\n",
              "                                                     [key], {});\n",
              "          if (!dataTable) return;\n",
              "\n",
              "          const docLinkHtml = 'Like what you see? Visit the ' +\n",
              "            '<a target=\"_blank\" href=https://colab.research.google.com/notebooks/data_table.ipynb>data table notebook</a>'\n",
              "            + ' to learn more about interactive tables.';\n",
              "          element.innerHTML = '';\n",
              "          dataTable['output_type'] = 'display_data';\n",
              "          await google.colab.output.renderOutput(dataTable, element);\n",
              "          const docLink = document.createElement('div');\n",
              "          docLink.innerHTML = docLinkHtml;\n",
              "          element.appendChild(docLink);\n",
              "        }\n",
              "      </script>\n",
              "    </div>\n",
              "  </div>\n",
              "  "
            ]
          },
          "metadata": {},
          "execution_count": 23
        }
      ],
      "source": [
        "train_data.head()"
      ],
      "id": "X_ct5VyaetiK"
    },
    {
      "cell_type": "code",
      "execution_count": 24,
      "metadata": {
        "id": "NCgksevOeyRf"
      },
      "outputs": [],
      "source": [
        "#moving the model to device(GPU/CPU)\n",
        "\n",
        "%%capture\n",
        "import pandas as pd\n",
        "import torch\n",
        "from transformers import T5Tokenizer, T5ForConditionalGeneration,Adafactor\n",
        "\n",
        "tokenizer = T5Tokenizer.from_pretrained('t5-base')\n",
        "model = T5ForConditionalGeneration.from_pretrained('t5-base',\n",
        "                                             return_dict=True)\n",
        "model.to(dev)"
      ],
      "id": "NCgksevOeyRf"
    },
    {
      "cell_type": "markdown",
      "metadata": {
        "id": "zTa2rsR-fdlE"
      },
      "source": [
        "###Loading the Optimizer"
      ],
      "id": "zTa2rsR-fdlE"
    },
    {
      "cell_type": "code",
      "execution_count": 25,
      "metadata": {
        "id": "Xb6xP6XufJjs"
      },
      "outputs": [],
      "source": [
        "optimizer = Adafactor(\n",
        "    model.parameters(),\n",
        "    lr=1e-3,\n",
        "    eps=(1e-30, 1e-3),\n",
        "    clip_threshold=1.0,\n",
        "    decay_rate=-0.8,\n",
        "    beta1=None,\n",
        "    weight_decay=0.0,\n",
        "    relative_step=False,\n",
        "    scale_parameter=False,\n",
        "    warmup_init=False\n",
        ")"
      ],
      "id": "Xb6xP6XufJjs"
    },
    {
      "cell_type": "code",
      "execution_count": 26,
      "metadata": {
        "id": "dp8S9IWlgj6h"
      },
      "outputs": [],
      "source": [
        "from IPython.display import HTML, display\n",
        "\n",
        "def progress(loss,value, max=100):\n",
        "    return HTML(\"\"\" Batch loss :{loss}\n",
        "        \n",
        "            {value}\n",
        "        \n",
        "    \"\"\".format(loss=loss,value=value, max=max))"
      ],
      "id": "dp8S9IWlgj6h"
    },
    {
      "cell_type": "code",
      "execution_count": 27,
      "metadata": {
        "id": "D71qx344gqZl"
      },
      "outputs": [],
      "source": [
        "num_of_epochs=3"
      ],
      "id": "D71qx344gqZl"
    },
    {
      "cell_type": "markdown",
      "metadata": {
        "id": "-JTxBDaYg4ix"
      },
      "source": [
        "###Train the model"
      ],
      "id": "-JTxBDaYg4ix"
    },
    {
      "cell_type": "code",
      "execution_count": 28,
      "metadata": {
        "colab": {
          "base_uri": "https://localhost:8080/",
          "height": 191
        },
        "id": "Mx1kbhICgypr",
        "outputId": "3813d18e-6588-4081-9fa5-04916e67bbbf"
      },
      "outputs": [
        {
          "metadata": {
            "tags": null
          },
          "name": "stdout",
          "output_type": "stream",
          "text": [
            "Running epoch: 1\n"
          ]
        },
        {
          "data": {
            "text/html": [
              " Batch loss :0.40757131576538086\n",
              "        \n",
              "            42\n",
              "        \n",
              "    "
            ],
            "text/plain": [
              "<IPython.core.display.HTML object>"
            ]
          },
          "metadata": {},
          "output_type": "display_data"
        },
        {
          "output_type": "display_data",
          "data": {
            "text/plain": [
              "<IPython.core.display.HTML object>"
            ],
            "text/html": [
              " Batch loss :0.36293870210647583\n",
              "        \n",
              "            222\n",
              "        \n",
              "    "
            ]
          },
          "metadata": {}
        },
        {
          "output_type": "stream",
          "name": "stdout",
          "text": [
            "Epoch: 1 , Running loss: 0.507694617582009\n",
            "Running epoch: 2\n"
          ]
        },
        {
          "output_type": "display_data",
          "data": {
            "text/plain": [
              "<IPython.core.display.HTML object>"
            ],
            "text/html": [
              " Batch loss :0.2818242311477661\n",
              "        \n",
              "            222\n",
              "        \n",
              "    "
            ]
          },
          "metadata": {}
        },
        {
          "output_type": "stream",
          "name": "stdout",
          "text": [
            "Epoch: 2 , Running loss: 0.3114594674832083\n",
            "Running epoch: 3\n"
          ]
        },
        {
          "output_type": "display_data",
          "data": {
            "text/plain": [
              "<IPython.core.display.HTML object>"
            ],
            "text/html": [
              " Batch loss :0.2430427372455597\n",
              "        \n",
              "            222\n",
              "        \n",
              "    "
            ]
          },
          "metadata": {}
        },
        {
          "output_type": "stream",
          "name": "stdout",
          "text": [
            "Epoch: 3 , Running loss: 0.2543078852074029\n"
          ]
        }
      ],
      "source": [
        "#Sets the module in training mode\n",
        "model.train()\n",
        "\n",
        "loss_per_10_steps=[]\n",
        "for epoch in range(1,num_of_epochs+1):\n",
        "  print('Running epoch: {}'.format(epoch))\n",
        "  \n",
        "  running_loss=0\n",
        "\n",
        "  out = display(progress(1, num_of_batches+1), display_id=True)\n",
        "  for i in range(num_of_batches):\n",
        "\n",
        "    inputbatch=[]\n",
        "    labelbatch=[]\n",
        "    new_data=train_data[i*batch_size:i*batch_size+batch_size]\n",
        "    for index,row in new_data.iterrows():\n",
        "      input = 'WebNLG: '+row['input_text']+'</s>' \n",
        "      labels = row['target_text']+'</s>'    \n",
        "      inputbatch.append(input)\n",
        "      labelbatch.append(labels)\n",
        "    inputbatch=tokenizer.batch_encode_plus(inputbatch,truncation=True,padding=True,return_tensors='pt')[\"input_ids\"]\n",
        "    labelbatch=tokenizer.batch_encode_plus(labelbatch,truncation=True,padding=True,return_tensors=\"pt\") [\"input_ids\"]\n",
        "    inputbatch=inputbatch.to(dev)\n",
        "    labelbatch=labelbatch.to(dev)\n",
        "\n",
        "    # clear out the gradients of all Variables \n",
        "    optimizer.zero_grad()\n",
        "\n",
        "    # Forward propogation\n",
        "    outputs = model(input_ids=inputbatch, labels=labelbatch)\n",
        "    loss = outputs.loss\n",
        "    loss_num=loss.item()\n",
        "    logits = outputs.logits\n",
        "    running_loss+=loss_num\n",
        "    if i%10 ==0:      \n",
        "      loss_per_10_steps.append(loss_num)\n",
        "    out.update(progress(loss_num,i, num_of_batches+1))\n",
        "\n",
        "    # calculating the gradients\n",
        "    loss.backward()\n",
        "\n",
        "    #updating the params\n",
        "    optimizer.step()\n",
        "  \n",
        "  running_loss=running_loss/int(num_of_batches)\n",
        "  print('Epoch: {} , Running loss: {}'.format(epoch,running_loss))\n",
        "  "
      ],
      "id": "Mx1kbhICgypr"
    },
    {
      "cell_type": "markdown",
      "metadata": {
        "id": "tw_537zNoLGh"
      },
      "source": [
        "### Ploting for Loss"
      ],
      "id": "tw_537zNoLGh"
    },
    {
      "cell_type": "code",
      "execution_count": 29,
      "metadata": {
        "colab": {
          "base_uri": "https://localhost:8080/",
          "height": 472
        },
        "id": "KD118mLdoJrH",
        "outputId": "bd9e63a8-3d48-4d90-8ccc-c404a677f976"
      },
      "outputs": [
        {
          "output_type": "display_data",
          "data": {
            "text/plain": [
              "<Figure size 640x480 with 1 Axes>"
            ],
            "image/png": "[encoded data removed]"
          },
          "metadata": {}
        }
      ],
      "source": [
        "import matplotlib.pyplot as plt\n",
        "   \n",
        "steps = [i*100 for i in range(len(loss_per_10_steps))]\n",
        "  \n",
        "plt.plot(steps, loss_per_10_steps)\n",
        "plt.title('Loss')\n",
        "plt.xlabel('Steps')\n",
        "plt.ylabel('Loss')\n",
        "plt.show()"
      ],
      "id": "KD118mLdoJrH"
    },
    {
      "cell_type": "markdown",
      "metadata": {
        "id": "yoW83iXco_wY"
      },
      "source": [
        "### Testing the Model"
      ],
      "id": "yoW83iXco_wY"
    },
    {
      "cell_type": "code",
      "execution_count": 30,
      "metadata": {
        "id": "cUDmkXljowwI",
        "colab": {
          "base_uri": "https://localhost:8080/",
          "height": 35
        },
        "outputId": "d5f80022-fc6e-4810-c657-f9a71bd53f5f"
      },
      "outputs": [
        {
          "output_type": "execute_result",
          "data": {
            "text/plain": [
              "'Putin is the leader of Russia., Putin Putin is the leader'"
            ],
            "application/vnd.google.colaboratory.intrinsic+json": {
              "type": "string"
            }
          },
          "metadata": {},
          "execution_count": 30
        }
      ],
      "source": [
        "model.eval()\n",
        "input_ids = tokenizer.encode(\"Russia | leader | Putin\", return_tensors=\"pt\")  # Batch size 1\n",
        "input_ids=input_ids.to(dev)\n",
        "outputs = model.generate(input_ids)\n",
        "tokenizer.decode(outputs[0], skip_special_tokens=True).replace('[','').replace(\"'\",\"\")\n",
        "     "
      ],
      "id": "cUDmkXljowwI"
    },
    {
      "cell_type": "code",
      "execution_count": 30,
      "metadata": {
        "id": "fDaeW-9O3c5w"
      },
      "outputs": [],
      "source": [],
      "id": "fDaeW-9O3c5w"
    },
    {
      "cell_type": "code",
      "execution_count": 31,
      "metadata": {
        "colab": {
          "base_uri": "https://localhost:8080/",
          "height": 35
        },
        "id": "B-X_4Tdt1cEb",
        "outputId": "4dd833af-0a0f-4aae-d8f4-dca7a33c98f6"
      },
      "outputs": [
        {
          "output_type": "execute_result",
          "data": {
            "text/plain": [
              "'Putin is a leader in Russia. Putin is the leader of Russia. Putin is the leader'"
            ],
            "application/vnd.google.colaboratory.intrinsic+json": {
              "type": "string"
            }
          },
          "metadata": {},
          "execution_count": 31
        }
      ],
      "source": [
        "def make_prediction(model, text):\n",
        "  model.eval()\n",
        "  input_ids = tokenizer.encode(text, return_tensors=\"pt\")  # Batch size 1\n",
        "  input_ids=input_ids.to(dev)\n",
        "  outputs = model.generate(input_ids)\n",
        "  return tokenizer.decode(outputs[0], skip_special_tokens=True).replace('[','').replace(\"'\",\"\")\n",
        "\n",
        "make_prediction(model, 'Putin | leader | Russia')"
      ],
      "id": "B-X_4Tdt1cEb"
    },
    {
      "cell_type": "code",
      "execution_count": 32,
      "metadata": {
        "id": "obDXiauq3m1Y"
      },
      "outputs": [],
      "source": [
        "dev_data = pd.read_csv('/content/drive/MyDrive/webNLG/PROJECT/Modified/University_dev.csv', index_col=[0])\n",
        "test_data = pd.read_csv('/content/drive/MyDrive/webNLG/PROJECT/Modified/University_test.csv', index_col=[0])"
      ],
      "id": "obDXiauq3m1Y"
    },
    {
      "cell_type": "code",
      "execution_count": 39,
      "metadata": {
        "id": "oa11hncf3uC6"
      },
      "outputs": [],
      "source": [
        "#geting the inputs (input_text) from the dataset\n",
        "dev_data_inputs = [ x.replace('[','').replace(']','') for x in dev_data['input_text'].values.tolist() ]\n",
        "\n",
        "#feeding the input into the model and getting the predictions\n",
        "dev_data_predictions = [ make_prediction(model, x) for x in dev_data_inputs ]\n",
        "\n",
        "#loading the reference values from the target_text column\n",
        "dev_data_reference = [ x.replace('[','').replace(']','') for x in dev_data['target_text'].values.tolist() ]"
      ],
      "id": "oa11hncf3uC6"
    },
    {
      "cell_type": "code",
      "source": [
        "## Creating both files for the ref and hypothesis as requested by the eval\n",
        "open('dev_reference.txt', 'w+').close()\n",
        "open('dev_hypothesis.txt', 'w+').close()\n",
        "\n",
        "with open('dev_reference.txt','a+') as f:\n",
        "  for row in dev_data_reference:\n",
        "    print(row, file=f)\n",
        "\n",
        "with open('dev_hypothesis.txt', 'a+') as f:\n",
        "  for row in dev_data_predictions:\n",
        "    print(row, file=f)"
      ],
      "metadata": {
        "id": "B6ZOkwm3qpaZ"
      },
      "id": "B6ZOkwm3qpaZ",
      "execution_count": 41,
      "outputs": []
    },
    {
      "cell_type": "markdown",
      "metadata": {
        "id": "zfqp5Q0jq851"
      },
      "source": [
        "###Evaluating the model\n"
      ],
      "id": "zfqp5Q0jq851"
    },
    {
      "cell_type": "code",
      "execution_count": 35,
      "metadata": {
        "colab": {
          "base_uri": "https://localhost:8080/"
        },
        "id": "fEBlkBHRpJ0v",
        "outputId": "03939064-4a47-4a37-cb15-02a17c0af9ae"
      },
      "outputs": [
        {
          "output_type": "stream",
          "name": "stdout",
          "text": [
            "Cloning into '2023-Challenge'...\n",
            "remote: Enumerating objects: 201, done.\u001b[K\n",
            "remote: Counting objects: 100% (201/201), done.\u001b[K\n",
            "remote: Compressing objects: 100% (143/143), done.\u001b[K\n",
            "remote: Total 201 (delta 95), reused 107 (delta 37), pack-reused 0\u001b[K\n",
            "Receiving objects: 100% (201/201), 7.67 MiB | 3.23 MiB/s, done.\n",
            "Resolving deltas: 100% (95/95), done.\n",
            "/content/2023-Challenge/evaluation/automatic/scripts\n",
            "\u001b[31mERROR: Could not open requirements file: [Errno 2] No such file or directory: 'requirements.txt'\u001b[0m\u001b[31m\n",
            "\u001b[0mLooking in indexes: https://pypi.org/simple, https://us-python.pkg.dev/colab-wheels/public/simple/\n",
            "Requirement already satisfied: pip in /usr/local/lib/python3.9/dist-packages (23.0.1)\n",
            "Cloning into 'bleurt'...\n",
            "remote: Enumerating objects: 134, done.\u001b[K\n",
            "remote: Counting objects: 100% (18/18), done.\u001b[K\n",
            "remote: Compressing objects: 100% (18/18), done.\u001b[K\n",
            "remote: Total 134 (delta 0), reused 17 (delta 0), pack-reused 116\u001b[K\n",
            "Receiving objects: 100% (134/134), 31.28 MiB | 32.03 MiB/s, done.\n",
            "Resolving deltas: 100% (49/49), done.\n",
            "Looking in indexes: https://pypi.org/simple, https://us-python.pkg.dev/colab-wheels/public/simple/\n",
            "Processing /content/2023-Challenge/evaluation/automatic/scripts/bleurt\n",
            "  Preparing metadata (setup.py) ... \u001b[?25l\u001b[?25hdone\n",
            "Requirement already satisfied: pandas in /usr/local/lib/python3.9/dist-packages (from BLEURT==0.0.2) (1.5.3)\n",
            "Requirement already satisfied: numpy in /usr/local/lib/python3.9/dist-packages (from BLEURT==0.0.2) (1.22.4)\n",
            "Requirement already satisfied: scipy in /usr/local/lib/python3.9/dist-packages (from BLEURT==0.0.2) (1.10.1)\n",
            "Requirement already satisfied: tensorflow in /usr/local/lib/python3.9/dist-packages (from BLEURT==0.0.2) (2.12.0)\n",
            "Requirement already satisfied: tf-slim>=1.1 in /usr/local/lib/python3.9/dist-packages (from BLEURT==0.0.2) (1.1.0)\n",
            "Requirement already satisfied: sentencepiece in /usr/local/lib/python3.9/dist-packages (from BLEURT==0.0.2) (0.1.97)\n",
            "Requirement already satisfied: absl-py>=0.2.2 in /usr/local/lib/python3.9/dist-packages (from tf-slim>=1.1->BLEURT==0.0.2) (1.4.0)\n",
            "Requirement already satisfied: pytz>=2020.1 in /usr/local/lib/python3.9/dist-packages (from pandas->BLEURT==0.0.2) (2022.7.1)\n",
            "Requirement already satisfied: python-dateutil>=2.8.1 in /usr/local/lib/python3.9/dist-packages (from pandas->BLEURT==0.0.2) (2.8.2)\n",
            "Requirement already satisfied: libclang>=13.0.0 in /usr/local/lib/python3.9/dist-packages (from tensorflow->BLEURT==0.0.2) (16.0.0)\n",
            "Requirement already satisfied: opt-einsum>=2.3.2 in /usr/local/lib/python3.9/dist-packages (from tensorflow->BLEURT==0.0.2) (3.3.0)\n",
            "Requirement already satisfied: h5py>=2.9.0 in /usr/local/lib/python3.9/dist-packages (from tensorflow->BLEURT==0.0.2) (3.8.0)\n",
            "Requirement already satisfied: packaging in /usr/local/lib/python3.9/dist-packages (from tensorflow->BLEURT==0.0.2) (23.0)\n",
            "Requirement already satisfied: jax>=0.3.15 in /usr/local/lib/python3.9/dist-packages (from tensorflow->BLEURT==0.0.2) (0.4.7)\n",
            "Requirement already satisfied: typing-extensions>=3.6.6 in /usr/local/lib/python3.9/dist-packages (from tensorflow->BLEURT==0.0.2) (4.5.0)\n",
            "Requirement already satisfied: keras<2.13,>=2.12.0 in /usr/local/lib/python3.9/dist-packages (from tensorflow->BLEURT==0.0.2) (2.12.0)\n",
            "Requirement already satisfied: setuptools in /usr/local/lib/python3.9/dist-packages (from tensorflow->BLEURT==0.0.2) (67.6.1)\n",
            "Requirement already satisfied: tensorboard<2.13,>=2.12 in /usr/local/lib/python3.9/dist-packages (from tensorflow->BLEURT==0.0.2) (2.12.1)\n",
            "Requirement already satisfied: flatbuffers>=2.0 in /usr/local/lib/python3.9/dist-packages (from tensorflow->BLEURT==0.0.2) (23.3.3)\n",
            "Requirement already satisfied: astunparse>=1.6.0 in /usr/local/lib/python3.9/dist-packages (from tensorflow->BLEURT==0.0.2) (1.6.3)\n",
            "Requirement already satisfied: grpcio<2.0,>=1.24.3 in /usr/local/lib/python3.9/dist-packages (from tensorflow->BLEURT==0.0.2) (1.53.0)\n",
            "Requirement already satisfied: termcolor>=1.1.0 in /usr/local/lib/python3.9/dist-packages (from tensorflow->BLEURT==0.0.2) (2.2.0)\n",
            "Requirement already satisfied: six>=1.12.0 in /usr/local/lib/python3.9/dist-packages (from tensorflow->BLEURT==0.0.2) (1.16.0)\n",
            "Requirement already satisfied: tensorflow-estimator<2.13,>=2.12.0 in /usr/local/lib/python3.9/dist-packages (from tensorflow->BLEURT==0.0.2) (2.12.0)\n",
            "Requirement already satisfied: protobuf!=4.21.0,!=4.21.1,!=4.21.2,!=4.21.3,!=4.21.4,!=4.21.5,<5.0.0dev,>=3.20.3 in /usr/local/lib/python3.9/dist-packages (from tensorflow->BLEURT==0.0.2) (3.20.3)\n",
            "Requirement already satisfied: tensorflow-io-gcs-filesystem>=0.23.1 in /usr/local/lib/python3.9/dist-packages (from tensorflow->BLEURT==0.0.2) (0.32.0)\n",
            "Requirement already satisfied: google-pasta>=0.1.1 in /usr/local/lib/python3.9/dist-packages (from tensorflow->BLEURT==0.0.2) (0.2.0)\n",
            "Requirement already satisfied: gast<=0.4.0,>=0.2.1 in /usr/local/lib/python3.9/dist-packages (from tensorflow->BLEURT==0.0.2) (0.4.0)\n",
            "Requirement already satisfied: wrapt<1.15,>=1.11.0 in /usr/local/lib/python3.9/dist-packages (from tensorflow->BLEURT==0.0.2) (1.14.1)\n",
            "Requirement already satisfied: wheel<1.0,>=0.23.0 in /usr/local/lib/python3.9/dist-packages (from astunparse>=1.6.0->tensorflow->BLEURT==0.0.2) (0.40.0)\n",
            "Requirement already satisfied: ml-dtypes>=0.0.3 in /usr/local/lib/python3.9/dist-packages (from jax>=0.3.15->tensorflow->BLEURT==0.0.2) (0.0.4)\n",
            "Requirement already satisfied: tensorboard-data-server<0.8.0,>=0.7.0 in /usr/local/lib/python3.9/dist-packages (from tensorboard<2.13,>=2.12->tensorflow->BLEURT==0.0.2) (0.7.0)\n",
            "Requirement already satisfied: google-auth-oauthlib<1.1,>=0.5 in /usr/local/lib/python3.9/dist-packages (from tensorboard<2.13,>=2.12->tensorflow->BLEURT==0.0.2) (1.0.0)\n",
            "Requirement already satisfied: tensorboard-plugin-wit>=1.6.0 in /usr/local/lib/python3.9/dist-packages (from tensorboard<2.13,>=2.12->tensorflow->BLEURT==0.0.2) (1.8.1)\n",
            "Requirement already satisfied: requests<3,>=2.21.0 in /usr/local/lib/python3.9/dist-packages (from tensorboard<2.13,>=2.12->tensorflow->BLEURT==0.0.2) (2.27.1)\n",
            "Requirement already satisfied: google-auth<3,>=1.6.3 in /usr/local/lib/python3.9/dist-packages (from tensorboard<2.13,>=2.12->tensorflow->BLEURT==0.0.2) (2.17.2)\n",
            "Requirement already satisfied: markdown>=2.6.8 in /usr/local/lib/python3.9/dist-packages (from tensorboard<2.13,>=2.12->tensorflow->BLEURT==0.0.2) (3.4.3)\n",
            "Requirement already satisfied: werkzeug>=1.0.1 in /usr/local/lib/python3.9/dist-packages (from tensorboard<2.13,>=2.12->tensorflow->BLEURT==0.0.2) (2.2.3)\n",
            "Requirement already satisfied: pyasn1-modules>=0.2.1 in /usr/local/lib/python3.9/dist-packages (from google-auth<3,>=1.6.3->tensorboard<2.13,>=2.12->tensorflow->BLEURT==0.0.2) (0.2.8)\n",
            "Requirement already satisfied: rsa<5,>=3.1.4 in /usr/local/lib/python3.9/dist-packages (from google-auth<3,>=1.6.3->tensorboard<2.13,>=2.12->tensorflow->BLEURT==0.0.2) (4.9)\n",
            "Requirement already satisfied: cachetools<6.0,>=2.0.0 in /usr/local/lib/python3.9/dist-packages (from google-auth<3,>=1.6.3->tensorboard<2.13,>=2.12->tensorflow->BLEURT==0.0.2) (5.3.0)\n",
            "Requirement already satisfied: requests-oauthlib>=0.7.0 in /usr/local/lib/python3.9/dist-packages (from google-auth-oauthlib<1.1,>=0.5->tensorboard<2.13,>=2.12->tensorflow->BLEURT==0.0.2) (1.3.1)\n",
            "Requirement already satisfied: importlib-metadata>=4.4 in /usr/local/lib/python3.9/dist-packages (from markdown>=2.6.8->tensorboard<2.13,>=2.12->tensorflow->BLEURT==0.0.2) (6.2.0)\n",
            "Requirement already satisfied: charset-normalizer~=2.0.0 in /usr/local/lib/python3.9/dist-packages (from requests<3,>=2.21.0->tensorboard<2.13,>=2.12->tensorflow->BLEURT==0.0.2) (2.0.12)\n",
            "Requirement already satisfied: idna<4,>=2.5 in /usr/local/lib/python3.9/dist-packages (from requests<3,>=2.21.0->tensorboard<2.13,>=2.12->tensorflow->BLEURT==0.0.2) (3.4)\n",
            "Requirement already satisfied: urllib3<1.27,>=1.21.1 in /usr/local/lib/python3.9/dist-packages (from requests<3,>=2.21.0->tensorboard<2.13,>=2.12->tensorflow->BLEURT==0.0.2) (1.26.15)\n",
            "Requirement already satisfied: certifi>=2017.4.17 in /usr/local/lib/python3.9/dist-packages (from requests<3,>=2.21.0->tensorboard<2.13,>=2.12->tensorflow->BLEURT==0.0.2) (2022.12.7)\n",
            "Requirement already satisfied: MarkupSafe>=2.1.1 in /usr/local/lib/python3.9/dist-packages (from werkzeug>=1.0.1->tensorboard<2.13,>=2.12->tensorflow->BLEURT==0.0.2) (2.1.2)\n",
            "Requirement already satisfied: zipp>=0.5 in /usr/local/lib/python3.9/dist-packages (from importlib-metadata>=4.4->markdown>=2.6.8->tensorboard<2.13,>=2.12->tensorflow->BLEURT==0.0.2) (3.15.0)\n",
            "Requirement already satisfied: pyasn1<0.5.0,>=0.4.6 in /usr/local/lib/python3.9/dist-packages (from pyasn1-modules>=0.2.1->google-auth<3,>=1.6.3->tensorboard<2.13,>=2.12->tensorflow->BLEURT==0.0.2) (0.4.8)\n",
            "Requirement already satisfied: oauthlib>=3.0.0 in /usr/local/lib/python3.9/dist-packages (from requests-oauthlib>=0.7.0->google-auth-oauthlib<1.1,>=0.5->tensorboard<2.13,>=2.12->tensorflow->BLEURT==0.0.2) (3.2.2)\n",
            "Building wheels for collected packages: BLEURT\n",
            "  Building wheel for BLEURT (setup.py) ... \u001b[?25l\u001b[?25hdone\n",
            "  Created wheel for BLEURT: filename=BLEURT-0.0.2-py3-none-any.whl size=16456781 sha256=3a57a64ef2688adc257841e6e7b0248029f44b14e9378adc18eefc753f1c9d14\n",
            "  Stored in directory: /tmp/pip-ephem-wheel-cache-5wbj5_09/wheels/49/13/c8/b5674caf110754684dfd03bed7921f01b96c4f7755cee56a7e\n",
            "Successfully built BLEURT\n",
            "Installing collected packages: BLEURT\n",
            "Successfully installed BLEURT-0.0.2\n",
            "--2023-04-12 04:05:27--  https://storage.googleapis.com/bleurt-oss/bleurt-base-128.zip\n",
            "Resolving storage.googleapis.com (storage.googleapis.com)... 108.177.98.128, 74.125.197.128, 74.125.135.128, ...\n",
            "Connecting to storage.googleapis.com (storage.googleapis.com)|108.177.98.128|:443... connected.\n",
            "HTTP request sent, awaiting response... 200 OK\n",
            "Length: 405489453 (387M) [application/zip]\n",
            "Saving to: ‘bleurt-base-128.zip’\n",
            "\n",
            "bleurt-base-128.zip 100%[===================>] 386.70M   132MB/s    in 2.9s    \n",
            "\n",
            "2023-04-12 04:05:30 (132 MB/s) - ‘bleurt-base-128.zip’ saved [405489453/405489453]\n",
            "\n",
            "Archive:  bleurt-base-128.zip\n",
            "   creating: bleurt-base-128/\n",
            "  inflating: bleurt-base-128/vocab.txt  \n",
            "  inflating: bleurt-base-128/bert_config.json  \n",
            "   creating: bleurt-base-128/variables/\n",
            "  inflating: bleurt-base-128/variables/variables.index  \n",
            "  inflating: bleurt-base-128/variables/variables.data-00000-of-00001  \n",
            "  inflating: bleurt-base-128/bleurt_config.json  \n",
            "  inflating: bleurt-base-128/saved_model.pb  \n",
            "--2023-04-12 04:05:36--  https://www.cs.cmu.edu/~alavie/METEOR/download/meteor-1.5.tar.gz\n",
            "Resolving www.cs.cmu.edu (www.cs.cmu.edu)... 128.2.42.95\n",
            "Connecting to www.cs.cmu.edu (www.cs.cmu.edu)|128.2.42.95|:443... connected.\n",
            "HTTP request sent, awaiting response... 200 OK\n",
            "Length: 223646468 (213M) [application/x-gzip]\n",
            "Saving to: ‘meteor-1.5.tar.gz’\n",
            "\n",
            "meteor-1.5.tar.gz    29%[====>               ]  63.44M  1.63MB/s    eta 94s    ^C\n",
            "/content\n",
            "popd -> /content\n"
          ]
        }
      ],
      "source": [
        "### No requirement.txt file was found in the repository\n",
        "### The process tried to overide the requirement.txt and install the other dependencies (meteor and bleurt), however they are not being used\n",
        "\n",
        "!git clone https://github.com/WebNLG/2023-Challenge.git\n",
        "%pushd 2023-Challenge/evaluation/automatic/scripts\n",
        "!./install_dependencies.sh\n",
        "%popd"
      ],
      "id": "fEBlkBHRpJ0v"
    },
    {
      "cell_type": "code",
      "source": [
        "!pip install pyter3 bert_score razdel tabulate sacrebleu -qqq"
      ],
      "metadata": {
        "id": "IJ6C76zEqvW9"
      },
      "id": "IJ6C76zEqvW9",
      "execution_count": 42,
      "outputs": []
    },
    {
      "cell_type": "code",
      "source": [
        "import nltk\n",
        "nltk.download('punkt')"
      ],
      "metadata": {
        "colab": {
          "base_uri": "https://localhost:8080/"
        },
        "id": "xpzH_zSxq0li",
        "outputId": "0ecddfe4-92fa-4f77-96a2-e6e467c5a091"
      },
      "id": "xpzH_zSxq0li",
      "execution_count": 43,
      "outputs": [
        {
          "output_type": "stream",
          "name": "stderr",
          "text": [
            "[nltk_data] Downloading package punkt to /root/nltk_data...\n",
            "[nltk_data]   Package punkt is already up-to-date!\n"
          ]
        },
        {
          "output_type": "execute_result",
          "data": {
            "text/plain": [
              "True"
            ]
          },
          "metadata": {},
          "execution_count": 43
        }
      ]
    },
    {
      "cell_type": "code",
      "execution_count": 44,
      "metadata": {
        "id": "cTCBoqlCrVtf",
        "colab": {
          "base_uri": "https://localhost:8080/"
        },
        "outputId": "df66afb2-ec98-4531-828b-178657a3206e"
      },
      "outputs": [
        {
          "output_type": "stream",
          "name": "stdout",
          "text": [
            "STARTING TO PARSE INPUTS...\n",
            "FINISHING TO PARSE INPUTS...\n",
            "STARTING TO COMPUTE CHRF++...\n",
            "FINISHING TO COMPUTE CHRF++...\n",
            "STARTING TO COMPUTE TER...\n",
            "FINISHING TO COMPUTE TER...\n",
            "   BLEU    chrF++    TER\n",
            "-------  --------  -----\n",
            "3.59959      0.27   0.77\n"
          ]
        }
      ],
      "source": [
        "#removed meteor because of this 'Error: Unable to access jarfile metrics/meteor-1.5/meteor-1.5.jar'\n",
        "#removed bleurt because its not implemented in the eval.py (also commented the import code line out)\n",
        "\n",
        "!python /content/drive/MyDrive/webNLG/PROJECT/Data/eval.py -hyp dev_hypothesis.txt -ref dev_reference.txt -nr 1 -m bleu,chrf++,ter -lng en\n",
        "\n",
        "\n"
      ],
      "id": "cTCBoqlCrVtf"
    }
  ],
  "metadata": {
    "colab": {
      "provenance": []
    },
    "kernelspec": {
      "display_name": "Python 3 (ipykernel)",
      "language": "python",
      "name": "python3"
    },
    "language_info": {
      "codemirror_mode": {
        "name": "ipython",
        "version": 3
      },
      "file_extension": ".py",
      "mimetype": "text/x-python",
      "name": "python",
      "nbconvert_exporter": "python",
      "pygments_lexer": "ipython3",
      "version": "3.9.13"
    }
  },
  "nbformat": 4,
  "nbformat_minor": 5
}